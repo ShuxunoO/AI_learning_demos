{
 "cells": [
  {
   "cell_type": "code",
   "execution_count": 2,
   "metadata": {},
   "outputs": [
    {
     "name": "stdout",
     "output_type": "stream",
     "text": [
      "tensor([[ 0,  1,  2,  3,  4],\n",
      "        [ 5,  6,  7,  8,  9],\n",
      "        [10, 11, 12, 13, 14],\n",
      "        [15, 16, 17, 18, 19]])\n"
     ]
    }
   ],
   "source": [
    "import torch\n",
    "x = torch.arange(20)\n",
    "x\n",
    "X = x.reshape(4,5)\n",
    "print(X)\n"
   ]
  },
  {
   "cell_type": "code",
   "execution_count": 8,
   "metadata": {},
   "outputs": [
    {
     "name": "stdout",
     "output_type": "stream",
     "text": [
      "tensor([[  0,   1,   4,   9,  16],\n",
      "        [ 25,  36,  49,  64,  81],\n",
      "        [100, 121, 144, 169, 196],\n",
      "        [225, 256, 289, 324, 361]])\n"
     ]
    }
   ],
   "source": [
    "x = torch.arange(20).reshape(4,5)\n",
    "y = x.clone()\n",
    "\n",
    "print(x * y)  # 两个元素按照元素相乘"
   ]
  },
  {
   "cell_type": "code",
   "execution_count": 2,
   "metadata": {},
   "outputs": [
    {
     "data": {
      "text/plain": [
       "tensor([[ 0.3583, -0.7973, -0.0337, -1.1273],\n",
       "        [-0.2637,  0.9098, -1.7170, -0.2237],\n",
       "        [ 0.8051, -0.7207, -1.2479, -1.2114]])"
      ]
     },
     "execution_count": 2,
     "metadata": {},
     "output_type": "execute_result"
    }
   ],
   "source": [
    "torch.randn(3, 4)"
   ]
  },
  {
   "cell_type": "code",
   "execution_count": 11,
   "metadata": {},
   "outputs": [
    {
     "data": {
      "text/plain": [
       "tensor([[[0, 1]],\n",
       "\n",
       "        [[2, 3]],\n",
       "\n",
       "        [[4, 5]],\n",
       "\n",
       "        [[6, 7]],\n",
       "\n",
       "        [[8, 9]]])"
      ]
     },
     "execution_count": 11,
     "metadata": {},
     "output_type": "execute_result"
    }
   ],
   "source": [
    "x = torch.arange(10).reshape(5,1,2)\n",
    "x"
   ]
  },
  {
   "cell_type": "code",
   "execution_count": 12,
   "metadata": {},
   "outputs": [
    {
     "data": {
      "text/plain": [
       "tensor([[[0],\n",
       "         [1]],\n",
       "\n",
       "        [[2],\n",
       "         [3]],\n",
       "\n",
       "        [[4],\n",
       "         [5]],\n",
       "\n",
       "        [[6],\n",
       "         [7]],\n",
       "\n",
       "        [[8],\n",
       "         [9]]])"
      ]
     },
     "execution_count": 12,
     "metadata": {},
     "output_type": "execute_result"
    }
   ],
   "source": [
    "y = torch.arange(10).reshape(5,2,1)\n",
    "y"
   ]
  },
  {
   "cell_type": "code",
   "execution_count": 14,
   "metadata": {},
   "outputs": [
    {
     "data": {
      "text/plain": [
       "tensor([[[ 0.,  1.,  2.,  3.,  4.],\n",
       "         [ 5.,  6.,  7.,  8.,  9.],\n",
       "         [10., 11., 12., 13., 14.],\n",
       "         [15., 16., 17., 18., 19.]],\n",
       "\n",
       "        [[20., 21., 22., 23., 24.],\n",
       "         [25., 26., 27., 28., 29.],\n",
       "         [30., 31., 32., 33., 34.],\n",
       "         [35., 36., 37., 38., 39.]]])"
      ]
     },
     "execution_count": 14,
     "metadata": {},
     "output_type": "execute_result"
    }
   ],
   "source": [
    "x = torch.arange(20.*2.).reshape(2,4,5)\n",
    "x"
   ]
  },
  {
   "cell_type": "code",
   "execution_count": 18,
   "metadata": {},
   "outputs": [
    {
     "name": "stdout",
     "output_type": "stream",
     "text": [
      "tensor([[20., 22., 24., 26., 28.],\n",
      "        [30., 32., 34., 36., 38.],\n",
      "        [40., 42., 44., 46., 48.],\n",
      "        [50., 52., 54., 56., 58.]]) torch.Size([4, 5])\n",
      "tensor([[ 30.,  34.,  38.,  42.,  46.],\n",
      "        [110., 114., 118., 122., 126.]]) torch.Size([2, 5])\n",
      "tensor([[ 10.,  35.,  60.,  85.],\n",
      "        [110., 135., 160., 185.]]) torch.Size([2, 4])\n",
      "tensor([140., 148., 156., 164., 172.]) torch.Size([5])\n"
     ]
    }
   ],
   "source": [
    "x1 = x.sum(axis=0)\n",
    "x2 = x.sum(axis = 1)\n",
    "x3 = x.sum(axis= 2)\n",
    "x4 = x.sum(axis = [0, 1])\n",
    "print(x1, x1.shape)\n",
    "print(x2, x2.shape)\n",
    "print(x3, x3.shape)\n",
    "print(x4, x4.shape)"
   ]
  },
  {
   "cell_type": "code",
   "execution_count": 20,
   "metadata": {},
   "outputs": [
    {
     "name": "stdout",
     "output_type": "stream",
     "text": [
      "tensor([[ 0.,  1.,  2.,  3.,  4.],\n",
      "        [ 5.,  6.,  7.,  8.,  9.],\n",
      "        [10., 11., 12., 13., 14.],\n",
      "        [15., 16., 17., 18., 19.]])\n",
      "tensor([[5., 6., 7., 8., 9.]])\n"
     ]
    }
   ],
   "source": [
    "x = torch.arange(20.).reshape(4,5)\n",
    "print(x)\n",
    "print(x[1:2, :])"
   ]
  },
  {
   "cell_type": "markdown",
   "metadata": {},
   "source": [
    "# 自动求导\n"
   ]
  },
  {
   "cell_type": "code",
   "execution_count": 4,
   "metadata": {},
   "outputs": [
    {
     "name": "stdout",
     "output_type": "stream",
     "text": [
      "tensor([[9.2755e-39, 1.0561e-38, 6.9796e-39],\n",
      "        [1.0102e-38, 1.0837e-38, 8.4490e-39],\n",
      "        [9.6428e-39, 1.1112e-38, 9.5511e-39],\n",
      "        [1.0102e-38, 1.0286e-38, 1.0194e-38],\n",
      "        [9.6429e-39, 9.2755e-39, 9.1837e-39]])\n"
     ]
    }
   ],
   "source": [
    "x = torch.empty(5,3)\n",
    "print(x)"
   ]
  },
  {
   "cell_type": "code",
   "execution_count": 6,
   "metadata": {},
   "outputs": [
    {
     "name": "stdout",
     "output_type": "stream",
     "text": [
      "tensor([[0.0733, 0.5606, 0.8321],\n",
      "        [0.0723, 0.0366, 0.7327],\n",
      "        [0.5760, 0.6700, 0.1349],\n",
      "        [0.5027, 0.7890, 0.6708],\n",
      "        [0.5463, 0.4957, 0.3598]])\n"
     ]
    }
   ],
   "source": [
    "x = torch.rand(5,3)\n",
    "print(x)"
   ]
  },
  {
   "cell_type": "code",
   "execution_count": 7,
   "metadata": {},
   "outputs": [
    {
     "data": {
      "text/plain": [
       "tensor([[ 0.7766, -0.4660, -0.1284],\n",
       "        [ 0.4474,  0.6835, -0.3732]])"
      ]
     },
     "execution_count": 7,
     "metadata": {},
     "output_type": "execute_result"
    }
   ],
   "source": [
    "x = torch.randn(2,3)\n",
    "x"
   ]
  },
  {
   "cell_type": "code",
   "execution_count": 18,
   "metadata": {},
   "outputs": [
    {
     "data": {
      "text/plain": [
       "tensor([1., 2.], requires_grad=True)"
      ]
     },
     "execution_count": 18,
     "metadata": {},
     "output_type": "execute_result"
    }
   ],
   "source": [
    "a = torch.tensor([1., 2.])\n",
    "a.data\n",
    "a.grad\n",
    "a.requires_grad\n",
    "a.requires_grad_()\n",
    "a.requires_grad_()"
   ]
  }
 ],
 "metadata": {
  "kernelspec": {
   "display_name": "Python 3.9.13 ('limu')",
   "language": "python",
   "name": "python3"
  },
  "language_info": {
   "codemirror_mode": {
    "name": "ipython",
    "version": 3
   },
   "file_extension": ".py",
   "mimetype": "text/x-python",
   "name": "python",
   "nbconvert_exporter": "python",
   "pygments_lexer": "ipython3",
   "version": "3.9.13"
  },
  "orig_nbformat": 4,
  "vscode": {
   "interpreter": {
    "hash": "2a044d7688e486ae77cd164cc30ce7e14bb396943c06b871a0658b418ee8b750"
   }
  }
 },
 "nbformat": 4,
 "nbformat_minor": 2
}
