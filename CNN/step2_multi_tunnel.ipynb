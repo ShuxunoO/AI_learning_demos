{
 "cells": [
  {
   "cell_type": "code",
   "execution_count": 26,
   "metadata": {},
   "outputs": [],
   "source": [
    "import torch\n",
    "from d2l import torch as d2l\n"
   ]
  },
  {
   "cell_type": "code",
   "execution_count": 27,
   "metadata": {},
   "outputs": [],
   "source": [
    "\n",
    "def corr2d_multi_in(X, K):\n",
    "    # 先遍历“X”和“K”的第0个维度（通道维度），再把它们加在一起\n",
    "    # zip 操作会把最外面那一纬度做做遍历，打包起来\n",
    "    return sum(d2l.corr2d(x, k) for x, k in zip(X, K))"
   ]
  },
  {
   "cell_type": "code",
   "execution_count": 28,
   "metadata": {},
   "outputs": [
    {
     "name": "stdout",
     "output_type": "stream",
     "text": [
      "tensor([[[0.5595, 0.2569, 0.3188],\n",
      "         [0.8882, 0.1906, 0.4419],\n",
      "         [0.7539, 0.7017, 0.8537]],\n",
      "\n",
      "        [[0.0302, 0.5844, 0.1255],\n",
      "         [0.5419, 0.2763, 0.7581],\n",
      "         [0.4671, 0.1377, 0.0397]],\n",
      "\n",
      "        [[0.3036, 0.2139, 0.2762],\n",
      "         [0.3462, 0.4842, 0.4218],\n",
      "         [0.4368, 0.5055, 0.9141]]])\n",
      "tensor([0.8778, 0.4963, 0.3077])\n",
      "tensor([[0.5595, 0.2569, 0.3188],\n",
      "        [0.8882, 0.1906, 0.4419],\n",
      "        [0.7539, 0.7017, 0.8537]]) tensor(0.8778)\n",
      "tensor([[0.0302, 0.5844, 0.1255],\n",
      "        [0.5419, 0.2763, 0.7581],\n",
      "        [0.4671, 0.1377, 0.0397]]) tensor(0.4963)\n",
      "tensor([[0.3036, 0.2139, 0.2762],\n",
      "        [0.3462, 0.4842, 0.4218],\n",
      "        [0.4368, 0.5055, 0.9141]]) tensor(0.3077)\n"
     ]
    }
   ],
   "source": [
    "# 测试\n",
    "A = torch.rand(3,3,3)\n",
    "print(A)\n",
    "B = torch.rand(3)\n",
    "print(B)\n",
    "\n",
    "for x,y in zip(A, B):\n",
    "    print(x,y)"
   ]
  },
  {
   "cell_type": "code",
   "execution_count": 29,
   "metadata": {},
   "outputs": [
    {
     "name": "stdout",
     "output_type": "stream",
     "text": [
      "torch.Size([3, 3])\n",
      "torch.Size([3, 3])\n",
      "tensor([[[ 1,  2,  3],\n",
      "         [ 4,  5,  6],\n",
      "         [ 7,  8,  9]],\n",
      "\n",
      "        [[10, 20, 30],\n",
      "         [40, 50, 60],\n",
      "         [70, 80, 90]]]) torch.Size([2, 3, 3]) \n",
      "\n",
      "tensor([[[ 1,  2,  3],\n",
      "         [10, 20, 30]],\n",
      "\n",
      "        [[ 4,  5,  6],\n",
      "         [40, 50, 60]],\n",
      "\n",
      "        [[ 7,  8,  9],\n",
      "         [70, 80, 90]]]) torch.Size([3, 2, 3]) \n",
      "\n",
      "tensor([[[ 1, 10],\n",
      "         [ 2, 20],\n",
      "         [ 3, 30]],\n",
      "\n",
      "        [[ 4, 40],\n",
      "         [ 5, 50],\n",
      "         [ 6, 60]],\n",
      "\n",
      "        [[ 7, 70],\n",
      "         [ 8, 80],\n",
      "         [ 9, 90]]]) torch.Size([3, 3, 2])\n"
     ]
    }
   ],
   "source": [
    "# 测试\n",
    "T1 = torch.tensor([[1, 2, 3],\n",
    "                   [4, 5, 6],\n",
    "                   [7, 8, 9]])\n",
    "print(T1.shape)\n",
    "T2 = torch.tensor([[10, 20, 30],\n",
    "                   [40, 50, 60],\n",
    "                   [70, 80, 90]])\n",
    "print(T2.shape)\n",
    "\n",
    "T3 = torch.stack((T1, T2), dim=0)\n",
    "print(T3, T3.shape, \"\\n\")\n",
    "\n",
    "T4 = torch.stack((T1, T2), dim=1)\n",
    "print(T4, T4.shape,\"\\n\")\n",
    "\n",
    "T5 = torch.stack((T1, T2), dim=2)\n",
    "print(T5, T5.shape)"
   ]
  },
  {
   "cell_type": "code",
   "execution_count": 30,
   "metadata": {},
   "outputs": [
    {
     "name": "stdout",
     "output_type": "stream",
     "text": [
      "torch.Size([2, 3, 3])\n",
      "torch.Size([2, 2, 2])\n"
     ]
    },
    {
     "data": {
      "text/plain": [
       "tensor([[ 56.,  72.],\n",
       "        [104., 120.]])"
      ]
     },
     "execution_count": 30,
     "metadata": {},
     "output_type": "execute_result"
    }
   ],
   "source": [
    "# 2个3*3的图像通道\n",
    "X = torch.tensor([[[0.0, 1.0, 2.0], [3.0, 4.0, 5.0], [6.0, 7.0, 8.0]],\n",
    "               [[1.0, 2.0, 3.0], [4.0, 5.0, 6.0], [7.0, 8.0, 9.0]]])\n",
    "print(X.shape)\n",
    "# 2个2*2的卷积核\n",
    "# [[0.0, 1.0], [2.0, 3.0]] 与  [[0.0, 1.0, 2.0], [3.0, 4.0, 5.0], [6.0, 7.0, 8.0]]做卷积运算\n",
    "# [[1.0, 2.0], [3.0, 4.0]] 与 [[1.0, 2.0, 3.0], [4.0, 5.0, 6.0], [7.0, 8.0, 9.0]] 做卷积运算\n",
    "K = torch.tensor([[[0.0, 1.0], [2.0, 3.0]], [[1.0, 2.0], [3.0, 4.0]]])\n",
    "print(K.shape)\n",
    "\n",
    "corr2d_multi_in(X, K)"
   ]
  },
  {
   "cell_type": "code",
   "execution_count": 31,
   "metadata": {},
   "outputs": [],
   "source": [
    "# 多输出通道\n",
    "# X还是3维的 K是4维的 最高的那一维度是卷积核的组数，剩下的那3维是指给输入图像的每一个通道都单独分配一个卷积核\n",
    "def corr2d_multi_in_out(X, K):\n",
    "    # 迭代“K”的第0个维度，每次都对输入“X”执行互相关运算。\n",
    "    # 最后将所有结果都叠加在一起\n",
    "    return torch.stack([corr2d_multi_in(X, k) for k in K], 0)\n",
    "    "
   ]
  },
  {
   "cell_type": "code",
   "execution_count": 32,
   "metadata": {},
   "outputs": [
    {
     "data": {
      "text/plain": [
       "torch.Size([3, 2, 2, 2])"
      ]
     },
     "execution_count": 32,
     "metadata": {},
     "output_type": "execute_result"
    }
   ],
   "source": [
    "K = torch.stack((K, K + 1, K + 2), 0)\n",
    "K.shape"
   ]
  },
  {
   "cell_type": "code",
   "execution_count": 33,
   "metadata": {},
   "outputs": [
    {
     "data": {
      "text/plain": [
       "tensor([[[ 56.,  72.],\n",
       "         [104., 120.]],\n",
       "\n",
       "        [[ 76., 100.],\n",
       "         [148., 172.]],\n",
       "\n",
       "        [[ 96., 128.],\n",
       "         [192., 224.]]])"
      ]
     },
     "execution_count": 33,
     "metadata": {},
     "output_type": "execute_result"
    }
   ],
   "source": [
    "corr2d_multi_in_out(X, K)"
   ]
  }
 ],
 "metadata": {
  "kernelspec": {
   "display_name": "Python 3.9.13 ('limu')",
   "language": "python",
   "name": "python3"
  },
  "language_info": {
   "codemirror_mode": {
    "name": "ipython",
    "version": 3
   },
   "file_extension": ".py",
   "mimetype": "text/x-python",
   "name": "python",
   "nbconvert_exporter": "python",
   "pygments_lexer": "ipython3",
   "version": "3.9.13"
  },
  "orig_nbformat": 4,
  "vscode": {
   "interpreter": {
    "hash": "2a044d7688e486ae77cd164cc30ce7e14bb396943c06b871a0658b418ee8b750"
   }
  }
 },
 "nbformat": 4,
 "nbformat_minor": 2
}
